{
 "cells": [
  {
   "cell_type": "code",
   "execution_count": 1,
   "metadata": {
    "collapsed": true
   },
   "outputs": [],
   "source": [
    "import xgboost as xgb\n",
    "import numpy as np\n",
    "import pandas as pd\n",
    "from sklearn.preprocessing import Imputer\n",
    "from sklearn.metrics import log_loss"
   ]
  },
  {
   "cell_type": "code",
   "execution_count": 2,
   "metadata": {
    "collapsed": true
   },
   "outputs": [],
   "source": [
    "train = pd.read_csv('train.csv', index_col = 'id')\n",
    "test = pd.read_csv('test.csv', index_col = 'id')\n",
    "y_train = (train['loan_status'] == 'Charged Off').apply(np.uint8)\n",
    "X = pd.concat([train.drop('loan_status', axis = 1), test])"
   ]
  },
  {
   "cell_type": "code",
   "execution_count": 3,
   "metadata": {
    "collapsed": true
   },
   "outputs": [],
   "source": [
    "X['fico_score'] = 0.5*X['fico_range_low'] + 0.5*X['fico_range_high']\n",
    "X['log_annual_inc'] = np.log(X['annual_inc'] + 1)\n",
    "X['earliest_cr_line'] = X['earliest_cr_line'].apply(lambda x: int(x[-4:]))\n",
    "X['emp_length'].replace('10+ years', '10 years', inplace=True)\n",
    "X['emp_length'].replace('< 1 year', '0 years', inplace=True)\n",
    "X['home_ownership'].replace(['NONE', 'ANY'], 'OTHER', inplace=True)\n",
    "def emp_length_to_int(s):\n",
    "    if pd.isnull(s):\n",
    "        return s\n",
    "    else:\n",
    "        return np.int8(s.split()[0])\n",
    "X['emp_length'] = X['emp_length'].apply(emp_length_to_int)\n",
    "    \n",
    "#columns dropped: id, grade, emp_title, title, zip_code, open_acc, revol_bal, total_acc\n",
    "nominal = ['sub_grade', 'verification_status', 'home_ownership', 'purpose',\n",
    "           'addr_state', 'initial_list_status', 'application_type','term']\n",
    "numeric = ['loan_amnt', 'int_rate', 'installment', 'dti', 'earliest_cr_line', 'revol_util',\n",
    "           'emp_length', 'mort_acc', 'pub_rec_bankruptcies', 'pub_rec','fico_score','log_annual_inc']"
   ]
  },
  {
   "cell_type": "code",
   "execution_count": 4,
   "metadata": {
    "collapsed": true
   },
   "outputs": [],
   "source": [
    "# get_dummies for nominal variables\n",
    "def preprocess_nominal(data):\n",
    "    return pd.get_dummies(data)\n",
    "\n",
    "#Missing value impute and winsorize\n",
    "def preprocess_numeric(data):\n",
    "    result = data.copy()\n",
    "    imputer = Imputer()\n",
    "    missing_col = result.columns[result.isnull().any()]\n",
    "    result[missing_col] = imputer.fit_transform(result[missing_col].values)\n",
    "    result = result.apply(lambda x: x.clip(upper = x.quantile(0.95), lower = x.quantile(0.05)))\n",
    "    return result\n",
    "\n",
    "# correlation to repsonse variable\n",
    "def corr(data, y, threshold = 0.01):\n",
    "    corr = data.join(y).corr()['loan_status']\n",
    "    result = [x for x in data.columns if abs(corr[x]) > threshold]\n",
    "    return result"
   ]
  },
  {
   "cell_type": "code",
   "execution_count": 5,
   "metadata": {
    "collapsed": true
   },
   "outputs": [],
   "source": [
    "#preprocess\n",
    "X = preprocess_nominal(X[nominal]).join(preprocess_numeric(X[numeric]))"
   ]
  },
  {
   "cell_type": "code",
   "execution_count": 6,
   "metadata": {
    "collapsed": true
   },
   "outputs": [],
   "source": [
    "#xgb prediction model\n",
    "X = X[corr(X[~ X.index.isin(test.index)], y_train)]\n",
    "X_train = X[~ X.index.isin(test.index)]\n",
    "X_test = X.loc[test.index]\n",
    "xgb_model = xgb.XGBRegressor(objective ='reg:linear', subsample = 0.8, colsample_bytree = 0.8, learning_rate = 0.1,\n",
    "                       max_depth = 7, n_estimators = 100, min_child_weight = 8)\n",
    "xgb_model.fit(X_train, y_train)\n",
    "y_pred_xgb = xgb_model.predict(X_test)\n",
    "y_pred_xgb[y_pred_xgb < 0] = np.exp(-4)\n",
    "xgb_result = pd.DataFrame(y_pred_xgb, columns = ['prob'], index = test.index)\n",
    "xgb_result.to_csv('mysubmission1.txt')"
   ]
  },
  {
   "cell_type": "code",
   "execution_count": null,
   "metadata": {
    "collapsed": true
   },
   "outputs": [],
   "source": []
  }
 ],
 "metadata": {
  "kernelspec": {
   "display_name": "Python 3",
   "language": "python",
   "name": "python3"
  },
  "language_info": {
   "codemirror_mode": {
    "name": "ipython",
    "version": 3
   },
   "file_extension": ".py",
   "mimetype": "text/x-python",
   "name": "python",
   "nbconvert_exporter": "python",
   "pygments_lexer": "ipython3",
   "version": "3.6.3"
  }
 },
 "nbformat": 4,
 "nbformat_minor": 2
}
