{
 "cells": [
  {
   "cell_type": "code",
   "execution_count": 1,
   "metadata": {
    "collapsed": true
   },
   "outputs": [],
   "source": [
    "from sklearn.preprocessing import Imputer, StandardScaler\n",
    "from sklearn.metrics import log_loss\n",
    "from scipy.stats import boxcox\n",
    "import xgboost as xgb\n",
    "import numpy as np\n",
    "import pandas as pd"
   ]
  },
  {
   "cell_type": "code",
   "execution_count": 13,
   "metadata": {
    "collapsed": true
   },
   "outputs": [],
   "source": [
    "test_id = pd.read_csv('Project3_test_id.csv')\n",
    "data = pd.read_csv('loan_stat542.csv', index_col = 'id')"
   ]
  },
  {
   "cell_type": "code",
   "execution_count": 14,
   "metadata": {
    "collapsed": true
   },
   "outputs": [],
   "source": [
    "y = data['loan_status'].apply(lambda x: 0 if x == 'Fully Paid' else 1)\n",
    "X = data.drop('loan_status', axis = 1)"
   ]
  },
  {
   "cell_type": "code",
   "execution_count": 15,
   "metadata": {
    "collapsed": true
   },
   "outputs": [],
   "source": [
    "X['fico_range'] = 0.5*X['fico_range_low'] + 0.5*X['fico_range_high']\n",
    "X['log_annual_inc'] = np.log(X['annual_inc'] + 1)\n",
    "\n",
    "drop_col = ['grade', 'emp_title', 'title', 'zip_code', 'open_acc', 'revol_bal', 'total_acc']\n",
    "nominal = ['sub_grade', 'verification_status', 'term', 'home_ownership', 'purpose', \n",
    "           'addr_state', 'initial_list_status', 'application_type']\n",
    "numeric = ['loan_amnt', 'int_rate', 'installment', 'log_annual_inc', 'dti', 'earliest_cr_line', \n",
    "           'fico_range', 'revol_util', 'emp_length', 'mort_acc', 'pub_rec_bankruptcies', 'pub_rec']"
   ]
  },
  {
   "cell_type": "code",
   "execution_count": 16,
   "metadata": {
    "collapsed": true
   },
   "outputs": [],
   "source": [
    "def variable_selection(df, y, p = 0.01):\n",
    "    corr = df.join(y).corr()['loan_status']\n",
    "    result_col = [x for x in df.columns if abs(corr[x]) > p]\n",
    "    return result_col\n",
    "\n",
    "def preprocess_numeric(df1):\n",
    "    df = df1.copy()\n",
    "    df['earliest_cr_line'] = df['earliest_cr_line'].apply(lambda x: int(x[-4:]))\n",
    "    \n",
    "    df['emp_length'].replace('10+ years', '10 years', inplace=True)\n",
    "    df['emp_length'].replace('< 1 year', '0 years', inplace=True)\n",
    "    df['emp_length'] = df['emp_length'].apply(lambda x: int(x.split(' ')[0]) if not pd.isnull(x) else x)\n",
    "    \n",
    "    imputer = Imputer()\n",
    "    missing_col = df.columns[df.isnull().any()]\n",
    "    df[missing_col] = imputer.fit_transform(df[missing_col].values)\n",
    "    df = df.apply(lambda x: x.clip(upper = x.quantile(0.95), lower = x.quantile(0.05)))\n",
    "    #lam = 0.15\n",
    "    #for col in df.columns:\n",
    "        #if abs(df[col].skew()) > 1:\n",
    "            #df[col] = boxcox(df[col] + 0.00001, lam)\n",
    "    return df\n",
    "\n",
    "# encode categories for all columns in df\n",
    "def encode_nominal(df):\n",
    "    return pd.get_dummies(df)\n",
    "\n",
    "# combine all functions into preprocessing\n",
    "def preprocess(df, numeric, nominal):\n",
    "    result = encode_nominal(df[nominal]).join(preprocess_numeric(df[numeric]))\n",
    "    return result"
   ]
  },
  {
   "cell_type": "code",
   "execution_count": 17,
   "metadata": {},
   "outputs": [],
   "source": [
    "X = preprocess(X, numeric, nominal)"
   ]
  },
  {
   "cell_type": "code",
   "execution_count": 23,
   "metadata": {
    "collapsed": true
   },
   "outputs": [],
   "source": [
    "error = []\n",
    "\n",
    "for i in range(1, 4):\n",
    "    train_X = X[~X.index.isin(test_id['test%i' % i])]\n",
    "    train_y = y[~X.index.isin(test_id['test%i' % i])]\n",
    "\n",
    "    keep_col = variable_selection(train_X, train_y)\n",
    "\n",
    "    X1 = X[keep_col]\n",
    "    X_train = X1[~X.index.isin(test_id['test%i' % i])]\n",
    "    y_train = y[~y.index.isin(test_id['test%i' % i])]\n",
    "    X_test = X1[X.index.isin(test_id['test%i' % i])]\n",
    "    y_test = y[y.index.isin(test_id['test%i' % i])]\n",
    "\n",
    "    xgb1 = xgb.XGBRegressor(objective ='reg:linear', subsample = 0.8, colsample_bytree = 0.8, learning_rate = 0.1,\n",
    "                           max_depth = 7, alpha = 10, n_estimators = 100, min_child_weight = 6)\n",
    "    xgb1.fit(X_train, y_train)\n",
    "    y_pred_xgb = xgb1.predict(X_test)\n",
    "    y_pred_xgb[y_pred_xgb < 0] = np.exp(-5)\n",
    "\n",
    "    error.append(log_loss(y_test, y_pred_xgb))"
   ]
  },
  {
   "cell_type": "code",
   "execution_count": 24,
   "metadata": {},
   "outputs": [
    {
     "data": {
      "text/plain": [
       "0.46009503230468723"
      ]
     },
     "execution_count": 24,
     "metadata": {},
     "output_type": "execute_result"
    }
   ],
   "source": [
    "np.mean(error)"
   ]
  },
  {
   "cell_type": "code",
   "execution_count": 22,
   "metadata": {},
   "outputs": [
    {
     "data": {
      "text/plain": [
       "0.45938091523140695"
      ]
     },
     "execution_count": 22,
     "metadata": {},
     "output_type": "execute_result"
    }
   ],
   "source": [
    "np.mean(error)"
   ]
  },
  {
   "cell_type": "code",
   "execution_count": null,
   "metadata": {
    "collapsed": true
   },
   "outputs": [],
   "source": []
  }
 ],
 "metadata": {
  "kernelspec": {
   "display_name": "Python 3",
   "language": "python",
   "name": "python3"
  },
  "language_info": {
   "codemirror_mode": {
    "name": "ipython",
    "version": 3
   },
   "file_extension": ".py",
   "mimetype": "text/x-python",
   "name": "python",
   "nbconvert_exporter": "python",
   "pygments_lexer": "ipython3",
   "version": "3.6.3"
  }
 },
 "nbformat": 4,
 "nbformat_minor": 2
}
