{
 "cells": [
  {
   "cell_type": "code",
   "execution_count": 90,
   "metadata": {
    "collapsed": true
   },
   "outputs": [],
   "source": [
    "import xgboost as xgb\n",
    "import numpy as np\n",
    "import pandas as pd\n",
    "from sklearn.preprocessing import Imputer\n",
    "from sklearn.metrics import log_loss"
   ]
  },
  {
   "cell_type": "code",
   "execution_count": 91,
   "metadata": {
    "collapsed": true
   },
   "outputs": [],
   "source": [
    "test_id = pd.read_csv('Project3_test_id.csv')\n",
    "data = pd.read_csv('loan_stat542.csv', index_col = 'id')"
   ]
  },
  {
   "cell_type": "code",
   "execution_count": 92,
   "metadata": {},
   "outputs": [],
   "source": [
    "y = (data['loan_status'] == 'Charged Off').apply(np.uint8)\n",
    "X = data.drop('loan_status', axis=1)"
   ]
  },
  {
   "cell_type": "code",
   "execution_count": 93,
   "metadata": {},
   "outputs": [],
   "source": [
    "X['fico_score'] = 0.5*X['fico_range_low'] + 0.5*X['fico_range_high']\n",
    "X['log_annual_inc'] = np.log(X['annual_inc'] + 1)\n",
    "X['earliest_cr_line'] = X['earliest_cr_line'].apply(lambda x: int(x[-4:]))\n",
    "X['emp_length'].replace('10+ years', '10 years', inplace=True)\n",
    "X['emp_length'].replace('< 1 year', '0 years', inplace=True)\n",
    "X['home_ownership'].replace(['NONE', 'ANY'], 'OTHER', inplace=True)\n",
    "def emp_length_to_int(s):\n",
    "    if pd.isnull(s):\n",
    "        return s\n",
    "    else:\n",
    "        return np.int8(s.split()[0])\n",
    "X['emp_length'] = X['emp_length'].apply(emp_length_to_int)\n",
    "    \n",
    "#columns dropped: id, grade, emp_title, title, zip_code, open_acc, revol_bal, total_acc\n",
    "nominal = ['sub_grade', 'verification_status', 'home_ownership', 'purpose',\n",
    "           'addr_state', 'initial_list_status', 'application_type','term']\n",
    "numeric = ['loan_amnt', 'int_rate', 'installment', 'dti', 'earliest_cr_line', 'revol_util',\n",
    "           'emp_length', 'mort_acc', 'pub_rec_bankruptcies', 'pub_rec','fico_score','log_annual_inc']"
   ]
  },
  {
   "cell_type": "code",
   "execution_count": 94,
   "metadata": {
    "collapsed": true
   },
   "outputs": [],
   "source": [
    "# get_dummies for nominal variables\n",
    "def preprocess_nominal(data):\n",
    "    return pd.get_dummies(data)\n",
    "\n",
    "#Missing value impute and winsorize\n",
    "def preprocess_numeric(data):\n",
    "    result = data.copy()\n",
    "    imputer = Imputer()\n",
    "    missing_col = result.columns[result.isnull().any()]\n",
    "    result[missing_col] = imputer.fit_transform(result[missing_col].values)\n",
    "    result = result.apply(lambda x: x.clip(upper = x.quantile(0.95), lower = x.quantile(0.05)))\n",
    "    return result\n",
    "\n",
    "# correlation to repsonse variable\n",
    "def corr(data, y, threshold = 0.01):\n",
    "    corr = data.join(y).corr()['loan_status']\n",
    "    result = [x for x in data.columns if abs(corr[x]) > threshold]\n",
    "    return result"
   ]
  },
  {
   "cell_type": "code",
   "execution_count": 95,
   "metadata": {},
   "outputs": [],
   "source": [
    "#preprocess\n",
    "X = preprocess_nominal(X[nominal]).join(preprocess_numeric(X[numeric]))"
   ]
  },
  {
   "cell_type": "code",
   "execution_count": 96,
   "metadata": {},
   "outputs": [],
   "source": [
    "error = []\n",
    "submission=[]\n",
    "for i in range(1, 4):\n",
    "    train_X = X[~X.index.isin(test_id['test%i' % i])]\n",
    "    train_y = y[~X.index.isin(test_id['test%i' % i])]\n",
    "    keep_col = corr(train_X, train_y)\n",
    "    X1 = X[keep_col]\n",
    "    X_train = X1[~X.index.isin(test_id['test%i' % i])]\n",
    "    y_train = y[~y.index.isin(test_id['test%i' % i])]\n",
    "    X_test = X1[X.index.isin(test_id['test%i' % i])]\n",
    "    y_test = y[y.index.isin(test_id['test%i' % i])]\n",
    "    xgb1 = xgb.XGBRegressor(objective ='reg:linear', subsample = 0.8, colsample_bytree = 0.8, learning_rate = 0.1,\n",
    "                           max_depth = 7, n_estimators = 100, min_child_weight = 8)\n",
    "    xgb1.fit(X_train, y_train)\n",
    "    y_pred_xgb = xgb1.predict(X_test)\n",
    "    y_pred_xgb[y_pred_xgb < 0] = np.exp(-4)\n",
    "    submission.append(y_pred_xgb)\n",
    "    error.append(log_loss(y_test, y_pred_xgb))"
   ]
  },
  {
   "cell_type": "code",
   "execution_count": 52,
   "metadata": {},
   "outputs": [
    {
     "data": {
      "text/plain": [
       "0.45038093487610098"
      ]
     },
     "execution_count": 52,
     "metadata": {},
     "output_type": "execute_result"
    }
   ],
   "source": [
    "np.mean(error)"
   ]
  },
  {
   "cell_type": "code",
   "execution_count": 87,
   "metadata": {},
   "outputs": [
    {
     "data": {
      "text/plain": [
       "0.45008157763090689"
      ]
     },
     "execution_count": 87,
     "metadata": {},
     "output_type": "execute_result"
    }
   ],
   "source": [
    "np.mean(error)"
   ]
  },
  {
   "cell_type": "code",
   "execution_count": 88,
   "metadata": {},
   "outputs": [
    {
     "data": {
      "text/plain": [
       "[0.44969613458811419, 0.45078262782122636, 0.44976597048338013]"
      ]
     },
     "execution_count": 88,
     "metadata": {},
     "output_type": "execute_result"
    }
   ],
   "source": [
    "error"
   ]
  },
  {
   "cell_type": "code",
   "execution_count": 78,
   "metadata": {},
   "outputs": [
    {
     "data": {
      "text/plain": [
       "0.45009943177883849"
      ]
     },
     "execution_count": 78,
     "metadata": {},
     "output_type": "execute_result"
    }
   ],
   "source": [
    "np.mean(error)"
   ]
  },
  {
   "cell_type": "code",
   "execution_count": 79,
   "metadata": {},
   "outputs": [
    {
     "data": {
      "text/plain": [
       "[0.44970991580638436, 0.45080421532171339, 0.44978416420841766]"
      ]
     },
     "execution_count": 79,
     "metadata": {},
     "output_type": "execute_result"
    }
   ],
   "source": [
    "error"
   ]
  },
  {
   "cell_type": "code",
   "execution_count": 89,
   "metadata": {},
   "outputs": [
    {
     "data": {
      "text/plain": [
       "array([ 0.30380875,  0.07445666,  0.24146089, ...,  0.13808429,\n",
       "        0.0605081 ,  0.26541919], dtype=float32)"
      ]
     },
     "execution_count": 89,
     "metadata": {},
     "output_type": "execute_result"
    }
   ],
   "source": [
    "y_pred_xgb"
   ]
  },
  {
   "cell_type": "code",
   "execution_count": 97,
   "metadata": {},
   "outputs": [
    {
     "data": {
      "text/plain": [
       "[array([ 0.41835696,  0.2997334 ,  0.14832196, ...,  0.34157273,\n",
       "         0.10189536,  0.24250284], dtype=float32),\n",
       " array([ 0.20777592,  0.05084082,  0.07622164, ...,  0.15521353,\n",
       "         0.2396231 ,  0.15917879], dtype=float32),\n",
       " array([ 0.30380875,  0.07445666,  0.24146089, ...,  0.13808429,\n",
       "         0.0605081 ,  0.26541919], dtype=float32)]"
      ]
     },
     "execution_count": 97,
     "metadata": {},
     "output_type": "execute_result"
    }
   ],
   "source": [
    "submission"
   ]
  },
  {
   "cell_type": "code",
   "execution_count": 98,
   "metadata": {},
   "outputs": [
    {
     "data": {
      "text/plain": [
       "0.45008157763090689"
      ]
     },
     "execution_count": 98,
     "metadata": {},
     "output_type": "execute_result"
    }
   ],
   "source": [
    "np.mean(error)"
   ]
  },
  {
   "cell_type": "code",
   "execution_count": 99,
   "metadata": {},
   "outputs": [
    {
     "data": {
      "text/plain": [
       "[0.44969613458811419, 0.45078262782122636, 0.44976597048338013]"
      ]
     },
     "execution_count": 99,
     "metadata": {},
     "output_type": "execute_result"
    }
   ],
   "source": [
    "error"
   ]
  },
  {
   "cell_type": "code",
   "execution_count": null,
   "metadata": {
    "collapsed": true
   },
   "outputs": [],
   "source": []
  }
 ],
 "metadata": {
  "kernelspec": {
   "display_name": "Python 3",
   "language": "python",
   "name": "python3"
  },
  "language_info": {
   "codemirror_mode": {
    "name": "ipython",
    "version": 3
   },
   "file_extension": ".py",
   "mimetype": "text/x-python",
   "name": "python",
   "nbconvert_exporter": "python",
   "pygments_lexer": "ipython3",
   "version": "3.6.3"
  }
 },
 "nbformat": 4,
 "nbformat_minor": 2
}
